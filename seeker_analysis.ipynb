{
 "cells": [
  {
   "cell_type": "code",
   "execution_count": 3,
   "metadata": {},
   "outputs": [
    {
     "data": {
      "text/plain": [
       "<module 'C4dynamics' from 'd:\\\\gh_repo\\\\examples\\\\..\\\\C4dynamics\\\\__init__.py'>"
      ]
     },
     "execution_count": 3,
     "metadata": {},
     "output_type": "execute_result"
    }
   ],
   "source": [
    "# some setup \n",
    "import numpy as np\n",
    "import matplotlib.pyplot as plt\n",
    "from scipy.integrate import solve_ivp, odeint\n",
    "\n",
    "import os, sys\n",
    "sys.path.append(os.path.join(os.getcwd(), '..'))\n",
    "\n",
    "\n",
    "import C4dynamics as c4d\n",
    "\n",
    "import importlib\n",
    "importlib.reload(c4d)\n"
   ]
  },
  {
   "cell_type": "code",
   "execution_count": 6,
   "metadata": {},
   "outputs": [],
   "source": [
    "beta0 = 1\n",
    "A = np.array([[0, 1, 0], [0, -np.sqrt(2 * 0.0034 * c4d.params.g / beta0), -c4d.params.g / beta0], [0, 0, 0]])\n",
    "b = np.array([[0], [0], [0]])\n",
    "c = np.array([1, 0, 0])\n",
    "ifilter = c4d.filters.luenberger(A, c)\n"
   ]
  },
  {
   "cell_type": "code",
   "execution_count": 10,
   "metadata": {},
   "outputs": [],
   "source": [
    "# objects definition \n",
    "\n",
    "#\n",
    "# just scale factor\n",
    "##\n",
    "rdr = c4d.seekers.radar(sf = 0.9, bias = 0, noisestd = 0)\n",
    "# rdr.sf = 0.9    # -10% percents \n",
    "# rdr.bias = 0 # meter bias\n",
    "# rdr.noise = 0 # the std of the noise is 10m error. \n",
    "\n",
    "dsf = []\n",
    "# main loop \n",
    "for r in range(1000):\n",
    "    dsf.append([r, rdr.measure(r)])   \n",
    "dsf = np.asarray(dsf)\n",
    "\n",
    "\n",
    "#\n",
    "# scale factor and bias\n",
    "##\n",
    "rdr = c4d.seekers.radar(sf = 0.9, bias = -70, noisestd = 0)\n",
    "# rdr.sf = 0.9    # -10% percents \n",
    "# rdr.bias = -70 # meter bias\n",
    "# rdr.noise = 0 # the std of the noise is 10m error. \n",
    "\n",
    "dbias = []\n",
    "# main loop \n",
    "for r in range(1000):\n",
    "    dbias.append([r, rdr.measure(r)])   \n",
    "dbias = np.asarray(dbias)\n",
    "\n",
    "\n",
    "#\n",
    "# scale factor, bias and noise\n",
    "##\n",
    "rdr = c4d.seekers.radar(sf = 0.9, bias = -70, noisestd = 20)\n",
    "# rdr.sf = 0.9    # -10% percents \n",
    "# rdr.bias = -70 # meter bias\n",
    "# rdr.noise = 20 # the std of the noise is 10m error. \n",
    "\n",
    "dns = []\n",
    "# main loop \n",
    "for r in range(1000):\n",
    "    dns.append([r, rdr.measure(r)])   \n",
    "dns = np.asarray(dns)\n",
    "\n"
   ]
  },
  {
   "cell_type": "code",
   "execution_count": null,
   "metadata": {},
   "outputs": [],
   "source": [
    "# # low pass filter \n",
    "#   TBD: add noise to radar seeker and filter with lpf. \n",
    "\n",
    "# # objects definition \n",
    "# rdr = c4d.seekers.dzradar([0, 0, 0], c4d.filters.filtertype.lowpass, .01)\n",
    "\n",
    "# # just scale factor\n",
    "# rdr.sf = 1    # -10% percents \n",
    "# rdr.bias = 0 # meter bias\n",
    "# rdr.noise = 40 # the std of the noise is 10m error. \n",
    "\n",
    "# dnse = []\n",
    "# # main loop \n",
    "# for r in range(1000):\n",
    "#     m = rdr.measure(r)\n",
    "#     # rdr.filter(r / 100)\n",
    "#     dnse.append([r, m, rdr.r])   \n",
    "# dnse = np.asarray(dnse)\n",
    "\n",
    "\n",
    "# plt.figure()\n",
    "# plt.plot(dnse[:r, 0], dnse[:r, 0], 'k', linewidth = 2)\n",
    "# plt.plot(dnse[:r, 0], dnse[:r, 1], 'm', linewidth = 1)\n",
    "# plt.plot(dnse[:r, 0], dnse[:r, 2], 'c', linewidth = 1)\n"
   ]
  },
  {
   "cell_type": "code",
   "execution_count": 11,
   "metadata": {},
   "outputs": [],
   "source": [
    "\n",
    "\n",
    "# This is a bit of magic to make matplotlib figures appear inline in the notebook\n",
    "# rather than in a new window.\n",
    "%matplotlib inline\n",
    "plt.rcParams['figure.figsize'] = (5.0, 4.0) # set default size of plots\n",
    "plt.rcParams['image.interpolation'] = 'nearest'\n",
    "plt.rcParams['image.cmap'] = 'gray'\n",
    "# plt.rcParams['text.usetex'] = True\n",
    "\n",
    "# Some more magic so that the notebook will reload external python modules;\n",
    "# see http://stackoverflow.com/questions/1907993/autoreload-of-modules-in-ipython\n",
    "%load_ext autoreload\n",
    "%autoreload 2\n",
    "\n",
    "# \n",
    "# plt.show() plots all the figures present in the state machine. Calling it only at the end of \n",
    "#       the script, ensures that all previously created figures are plotted.\n",
    "# Now you need to make sure that each plot indeed is created in a different figure. That can be \n",
    "#       achieved using plt.figure(fignumber) where fignumber is a number starting at index 1.\n",
    "#"
   ]
  },
  {
   "cell_type": "code",
   "execution_count": null,
   "metadata": {},
   "outputs": [],
   "source": [
    "plt.rcParams[\"font.family\"] = \"Times New Roman\"\n",
    "plt.rcParams[\"font.size\"] = 18\n",
    "\n",
    "# plt.plot(data)\n",
    "fol = os.getcwd() + '/fig'\n",
    "if not os.path.exists(fol):\n",
    "    os.mkdir(fol)\n",
    "    \n",
    "    \n",
    "rot = 30\n",
    "\n",
    "plt.figure(1)\n",
    "# plt.title('scale factor')\n",
    "plt.xlim(0, 1000)\n",
    "plt.ylim(0, 1000)\n",
    "plt.text(100, 600\n",
    "         , \"Scale\"\n",
    "         , size = 30\n",
    "         , ha = \"left\" \n",
    "         , va = \"center\"\n",
    "         , rotation = rot\n",
    "         , fontfamily = 'Times New Roman'\n",
    "         )\n",
    "plt.axis('off')\n",
    "\n",
    "plt.figure(2)\n",
    "# plt.title('scale factor & bias')\n",
    "plt.xlim(0, 1000)\n",
    "plt.ylim(0, 1000)\n",
    "plt.text(100, 670\n",
    "         , \"Scale + Bias\"\n",
    "         , size = 30\n",
    "         , ha = \"left\" \n",
    "         , va = \"center\"\n",
    "         , rotation = rot\n",
    "         , fontfamily = 'Times New Roman'\n",
    "         )\n",
    "plt.axis('off')\n",
    "\n",
    "plt.figure(3)\n",
    "# plt.title('scale factor & bias & noise')\n",
    "plt.xlim(0, 1000)\n",
    "plt.ylim(0, 1000)  \n",
    "plt.text(100, 740\n",
    "         , \"Scale + Bias + Noise\"\n",
    "         , size = 30\n",
    "         , ha = \"left\" \n",
    "         , va = \"center\"\n",
    "         , rotation = rot\n",
    "         , fontfamily = 'Times New Roman'\n",
    "         )\n",
    "plt.axis('off')\n",
    "    \n",
    "for r in range(0, 1000, 4):\n",
    "    plt.figure(1)\n",
    "    plt.plot(dsf[:r, 0], dsf[:r, 0], 'k', linewidth = 2)\n",
    "    plt.plot(dsf[:r, 0], dsf[:r, 1], 'b', linewidth = 2) \n",
    "    # plt.title('scale factor')\n",
    "    # plt.xlim(0, 1000)\n",
    "    # plt.ylim(0, 1000)\n",
    "    plt.savefig(fol + \"/a_sf_\" + str(r), dpi = 72) # frames\n",
    "# plt.show()\n",
    "\n",
    "    plt.figure(2)\n",
    "    plt.plot(dsf[:r, 0], dsf[:r, 0], 'k', linewidth = 2)\n",
    "    plt.plot(dbias[:r, 0], dbias[:r, 1], 'g', linewidth = 2)\n",
    "    # plt.title('scale factor & bias')\n",
    "    # plt.xlim(0, 1000)\n",
    "    # plt.ylim(0, 1000)\n",
    "    plt.savefig(fol + \"/b_sf_bias_\" + str(r), dpi = 72) # frames\n",
    "# plt.show()\n",
    "\n",
    "    plt.figure(3)\n",
    "    plt.plot(dsf[:r, 0], dsf[:r, 0], 'k', linewidth = 2)\n",
    "    plt.plot(dns[:r, 0], dns[:r, 1], 'm', linewidth = 2)\n",
    "    # plt.title('scale factor & bias & noise')\n",
    "    # plt.xlim(0, 1000)\n",
    "    # plt.ylim(0, 1000)\n",
    "    plt.savefig(fol + \"/c_sf_bias_noise\" + str(r), dpi = 72) # frames\n",
    "\n",
    "# plt.show()\n"
   ]
  },
  {
   "cell_type": "code",
   "execution_count": 15,
   "metadata": {},
   "outputs": [
    {
     "data": {
      "image/png": "[encoded data removed]",
      "text/plain": [
       "<Figure size 500x400 with 1 Axes>"
      ]
     },
     "metadata": {},
     "output_type": "display_data"
    }
   ],
   "source": [
    "plt.hist(rdr.noisestd * np.random.randn(1000))\n",
    "plt.title('noise hist')\n",
    "plt.show()"
   ]
  },
  {
   "cell_type": "code",
   "execution_count": null,
   "metadata": {},
   "outputs": [],
   "source": [
    "import natsort\n",
    "import shutil\n",
    "\n",
    "fdir = os.listdir(os.getcwd() + '\\\\fig')\n",
    "f = natsort.natsorted([os.getcwd() + '\\\\fig\\\\' + fi for fi in fdir if fi.lower().endswith('png')])\n",
    "\n",
    "# filter 3/4 of the samples \n",
    "# for g in range(0000, 3000, 4):\n",
    "#     shutil.copy(f[g], os.getcwd() + '\\\\fig')  \n",
    "\n",
    "\n",
    "c4d.tools.gen_gif(os.getcwd() + '\\\\fig')"
   ]
  }
 ],
 "metadata": {
  "kernelspec": {
   "display_name": "Python 3.7.4 64-bit ('3.7.4')",
   "language": "python",
   "name": "python3"
  },
  "language_info": {
   "codemirror_mode": {
    "name": "ipython",
    "version": 3
   },
   "file_extension": ".py",
   "mimetype": "text/x-python",
   "name": "python",
   "nbconvert_exporter": "python",
   "pygments_lexer": "ipython3",
   "version": "3.7.4 (tags/v3.7.4:e09359112e, Jul  8 2019, 20:34:20) [MSC v.1916 64 bit (AMD64)]"
  },
  "vscode": {
   "interpreter": {
    "hash": "ad23a8c0bfcbcec1cee063205f6ad485cbd775379406a4bec684e1a72e0075d1"
   }
  }
 },
 "nbformat": 4,
 "nbformat_minor": 1
}
